{
  "nbformat": 4,
  "nbformat_minor": 0,
  "metadata": {
    "colab": {
      "provenance": [],
      "authorship_tag": "ABX9TyOb9WOdjvmJGV+OL9RAfFKw",
      "include_colab_link": true
    },
    "kernelspec": {
      "name": "python3",
      "display_name": "Python 3"
    },
    "language_info": {
      "name": "python"
    }
  },
  "cells": [
    {
      "cell_type": "markdown",
      "metadata": {
        "id": "view-in-github",
        "colab_type": "text"
      },
      "source": [
        "<a href=\"https://colab.research.google.com/github/UkeshThapa/Human-Activities-recognition/blob/main/Research_Human_activities_Recognition_TML.ipynb\" target=\"_parent\"><img src=\"https://colab.research.google.com/assets/colab-badge.svg\" alt=\"Open In Colab\"/></a>"
      ]
    },
    {
      "cell_type": "markdown",
      "source": [
        "# Research on Human Activities Recognition\n",
        "#### @author : John Bernardo\n",
        "#### @email : jaybz.bernardo@gmail.com\n"
      ],
      "metadata": {
        "id": "8BvcUa43kFRr"
      }
    },
    {
      "cell_type": "markdown",
      "source": [
        "#### Code By:\n",
        "#### @author : Ukesh Thapa\n",
        "#### @email : yukeshthapa8@gmail.com"
      ],
      "metadata": {
        "id": "4kOgR5VRkT1Z"
      }
    },
    {
      "cell_type": "markdown",
      "source": [
        "#### Requirements :\n",
        "#### Load Dataset\n",
        "#### Split dataset\n",
        "#### Use Different Model\n",
        "#### Hypertune Parameter\n",
        "#### Evaluation Metrics: AUC - ROC, Confusion Metrics\n",
        "#### Cross Validation - K fold cross validation"
      ],
      "metadata": {
        "id": "zERYwUPUlSZ5"
      }
    },
    {
      "cell_type": "code",
      "execution_count": null,
      "metadata": {
        "id": "sK8L25fsQwdf"
      },
      "outputs": [],
      "source": []
    }
  ]
}