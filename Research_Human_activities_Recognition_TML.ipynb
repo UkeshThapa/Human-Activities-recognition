{
  "nbformat": 4,
  "nbformat_minor": 0,
  "metadata": {
    "colab": {
      "provenance": [],
      "mount_file_id": "https://github.com/UkeshThapa/Human-Activities-recognition/blob/main/Research_Human_activities_Recognition_TML.ipynb",
      "authorship_tag": "ABX9TyPRtbmWdEURaR5x6wA+23tx",
      "include_colab_link": true
    },
    "kernelspec": {
      "name": "python3",
      "display_name": "Python 3"
    },
    "language_info": {
      "name": "python"
    }
  },
  "cells": [
    {
      "cell_type": "markdown",
      "metadata": {
        "id": "view-in-github",
        "colab_type": "text"
      },
      "source": [
        "<a href=\"https://colab.research.google.com/github/UkeshThapa/Human-Activities-recognition/blob/main/Research_Human_activities_Recognition_TML.ipynb\" target=\"_parent\"><img src=\"https://colab.research.google.com/assets/colab-badge.svg\" alt=\"Open In Colab\"/></a>"
      ]
    },
    {
      "cell_type": "markdown",
      "source": [
        "# Research on Human Activities Recognition with TML\n",
        "#### @author1 : John Bernardo\n",
        "#### @email1 : jaybz.bernardo@gmail.com\n",
        "\n",
        "####\n",
        "#### @author2 : Bipun Man Pati Gubaju\n",
        "#### @email2 : bemaanpati@gmail.com\n",
        "\n",
        "#### ----------------------------------------------------------------------------------------------------------------------------------------------------------------------####\n",
        "\n",
        "\n",
        "\n",
        "#### Code By:\n",
        "#### @author : Ukesh Thapa\n",
        "#### @email : yukeshthapa8@gmail.com\n"
      ],
      "metadata": {
        "id": "8BvcUa43kFRr"
      }
    },
    {
      "cell_type": "code",
      "execution_count": 1,
      "metadata": {
        "id": "sK8L25fsQwdf"
      },
      "outputs": [],
      "source": [
        "# import library\n",
        "\n",
        "import numpy as np\n",
        "import pandas as pd\n",
        "import seaborn as sns\n",
        "from tqdm import tqdm\n",
        "import matplotlib.pyplot as plt\n",
        "\n",
        "\n",
        "from sklearn.preprocessing import StandardScaler\n",
        "from sklearn.preprocessing import MinMaxScaler\n",
        "\n",
        "\n",
        "\n",
        "from sklearn.preprocessing import label_binarize\n",
        "from sklearn.model_selection import GridSearchCV, StratifiedKFold,cross_val_score, KFold\n",
        "from sklearn.metrics import accuracy_score, classification_report, confusion_matrix,precision_score, recall_score, f1_score, roc_auc_score,precision_recall_curve,average_precision_score\n",
        "\n",
        "\n",
        "\n",
        "# model\n",
        "from sklearn.neighbors import KNeighborsClassifier\n",
        "from sklearn.tree import DecisionTreeClassifier\n",
        "from sklearn.svm import SVC\n"
      ]
    },
    {
      "cell_type": "code",
      "source": [
        "def load_dataset_and_merge(file_paths):\n",
        "  dfs = []\n",
        "\n",
        "  # Loop through each file, read it into a DataFrame, and append to the list\n",
        "  for file_path in file_paths:\n",
        "      df = pd.read_excel(file_path)\n",
        "      dfs.append(df)\n",
        "  combined_df = pd.concat(dfs,axis=0, ignore_index=True)\n",
        "\n",
        "  return combined_df\n",
        "\n",
        "\n",
        "\n",
        "xlsx_name = [\"aung\",\"aung_ph\",\"bipun\",\"john\",\"kaung\",\"kavin\",\"manash\",\"person_2\",\"person_3\",\"praew\",\"su\"]\n",
        "\n"
      ],
      "metadata": {
        "id": "T5tZqZHQwXmG"
      },
      "execution_count": 2,
      "outputs": []
    },
    {
      "cell_type": "code",
      "source": [
        "\n",
        "file_path = \"/content/drive/MyDrive/Colab Notebooks/Human Activities Recognition/Dataset/2 Sensors/non-overlapping/Train_Test_Data\"\n",
        "# file_path = \"/content/drive/MyDrive/Colab Notebooks/Human Activities Recognition/Dataset/2 Sensors/50_-overlapping/Train_Test_Data\"\n",
        "\n",
        "cv_data_name = []\n",
        "for name in xlsx_name:\n",
        "    cv_data_name.append(f\"{file_path}/final_{name}.xlsx\")\n",
        "\n",
        "df_all = load_dataset_and_merge(cv_data_name)\n",
        "\n",
        "normalize_all_data = df_all.iloc[:, :-1]\n",
        "scaler = MinMaxScaler()\n",
        "scaler.fit(normalize_all_data)\n",
        "\n",
        "df_all.iloc[:, :-1] = scaler.transform(normalize_all_data)\n",
        "\n",
        "X = df_all.iloc[:, :-1].values\n",
        "y = df_all['output'].values"
      ],
      "metadata": {
        "id": "1x3t3BV7tF4n"
      },
      "execution_count": 3,
      "outputs": []
    },
    {
      "cell_type": "code",
      "source": [
        "# Data visulaization\n",
        "\n",
        "fig, (ax1, ax2) = plt.subplots(1, 2, figsize=(12, 5))  # 1 row, 2 columns of subplots\n",
        "\n",
        "# Plot the output column for the training DataFrame in the first subplot (ax1)\n",
        "ax1.set_title('Training Data')\n",
        "# Add your visualization for the output column of the training data (e.g., histogram, bar plot, etc.)\n",
        "df_all['output'].plot(kind='hist', ax=ax1)\n",
        "\n",
        "# Plot the output column for the test DataFrame in the second subplot (ax2)\n",
        "ax2.set_title('Test Data')\n",
        "# Add your visualization for the output column of the test data (e.g., histogram, bar plot, etc.)\n",
        "df_all['output'].plot(kind='hist', ax=ax2)\n",
        "\n",
        "# Adjust spacing between subplots\n",
        "plt.tight_layout()\n",
        "\n",
        "# Show the figure\n",
        "plt.show()"
      ],
      "metadata": {
        "colab": {
          "base_uri": "https://localhost:8080/",
          "height": 507
        },
        "id": "bBciYa0hae0D",
        "outputId": "3a79e04b-c1c6-4310-b15a-84767a8cdde5"
      },
      "execution_count": 4,
      "outputs": [
        {
          "output_type": "display_data",
          "data": {
            "text/plain": [
              "<Figure size 1200x500 with 2 Axes>"
            ],
            "image/png": "[encoded data removed]"
          },
          "metadata": {}
        }
      ]
    },
    {
      "cell_type": "markdown",
      "source": [
        "# Cross Validation"
      ],
      "metadata": {
        "id": "QGNAAWGemZt1"
      }
    },
    {
      "cell_type": "markdown",
      "source": [
        "# Model"
      ],
      "metadata": {
        "id": "BBbK6gia5wNb"
      }
    },
    {
      "cell_type": "code",
      "source": [
        "### KNN Params\n",
        "\n",
        "# param_grid = {\n",
        "#     'n_neighbors': [1, 3, 5, 7, 9],\n",
        "#     'weights': ['uniform', 'distance'],\n",
        "#     'p': [1, 2]\n",
        "# }\n",
        "\n",
        "### Tree params\n",
        "# param_grid = {\n",
        "#     'criterion': ['gini', 'entropy'],\n",
        "#     'max_depth': [None, 10, 20, 30],\n",
        "#     'min_samples_split': [2, 5, 10],\n",
        "#     'min_samples_leaf': [1, 2, 4],\n",
        "# }\n",
        "\n",
        "### SVC\n",
        "# param_grid = {\n",
        "#     'C': [0.01,0.1,1,10],  # Regularization parameter\n",
        "#     'kernel': ['linear'],  # Use a linear kernel\n",
        "#     'gamma': ['scale', 'auto'],  # Kernel coefficient (scale or auto for 1/n_features or 1/n_features)\n",
        "#     'class_weight': [None, 'balanced']  # Class weights (None or balanced)\n",
        "# }\n",
        "\n",
        "\n",
        "# Define the parameter grid for hyperparameter tuning\n",
        "param_grid = {\n",
        "    'C': [0.01,0.1,1,10],  # Regularization parameter\n",
        "    'gamma': [0.001, 0.01, 0.1, 1],  # Kernel coefficient for 'rbf'\n",
        "}\n",
        "\n",
        "## Models\n",
        "# model = KNeighborsClassifier()\n",
        "# model = KNeighborsClassifier(metric='cosine')\n",
        "# model = DecisionTreeClassifier()\n",
        "# model = SVC()\n",
        "model = SVC(kernel='rbf')\n"
      ],
      "metadata": {
        "id": "gT8NqhW20zxl"
      },
      "execution_count": 6,
      "outputs": []
    },
    {
      "cell_type": "code",
      "source": [
        "\n",
        "# Initialize variables to store the best model and its evaluation results\n",
        "best_model = None\n",
        "best_f1 = 0.0\n",
        "best_train_f1 = 0.0\n",
        "best_test_f1 = 0.0\n",
        "best_validation_f1 = 0.0\n",
        "best_confusion_matrix = None\n",
        "best_precision_recall_curve = None\n",
        "\n",
        "\n",
        "\n",
        "# Initialize lists to store F1 scores for each fold\n",
        "scores = []\n",
        "folds = []\n",
        "\n",
        "\n",
        "# Define the outer cross-validation loop\n",
        "outer_cv = StratifiedKFold(n_splits=5, shuffle=True, random_state=42)\n",
        "\n",
        "\n",
        "\n",
        "# Create a tqdm progress bar for the combined outer and inner loop\n",
        "for fold_index, (train_index, test_index) in enumerate(tqdm(outer_cv.split(X, y), total=5, desc=\"Outer CV Progress\")):\n",
        "    X_train, X_test = X[train_index], X[test_index]\n",
        "    y_train, y_test = y[train_index], y[test_index]\n",
        "\n",
        "    # Create an inner cross-validation loop for hyperparameter tuning\n",
        "    inner_cv = StratifiedKFold(n_splits=10, shuffle=True, random_state=42)\n",
        "\n",
        "    precision_recall_curves_in_fold = [None] * 6\n",
        "\n",
        "\n",
        "    # Create a tqdm progress bar for the inner loop\n",
        "    for train_index, val_index in inner_cv.split(X_train, y_train):\n",
        "        X_train_inner, X_val = X_train[train_index], X_train[val_index]\n",
        "        y_train_inner, y_val = y_train[train_index], y_train[val_index]\n",
        "\n",
        "        # Create an inner grid search with the KNN model and parameter grid\n",
        "        grid_search = GridSearchCV(estimator=model, param_grid=param_grid, cv=inner_cv, scoring='f1_micro')\n",
        "\n",
        "        # Fit the grid search on the training data\n",
        "        grid_search.fit(X_train_inner, y_train_inner)\n",
        "\n",
        "        # Get the best hyperparameters from the grid search\n",
        "        best_params = grid_search.best_params_\n",
        "\n",
        "        # Create a KNN classifier with the best hyperparameters\n",
        "        model = SVC(**best_params,kernel='rbf', probability=True)\n",
        "\n",
        "        # Fit the best KNN classifier on the training data\n",
        "        model.fit(X_train_inner, y_train_inner)\n",
        "\n",
        "        # Calculate F1 scores for training, testing, and validation\n",
        "\n",
        "        validation_f1 = f1_score(y_val, model.predict(X_val),average='micro')\n",
        "\n",
        "        # Check if the validation F1 score is the highest\n",
        "        if validation_f1 > best_f1:\n",
        "            best_f1 = validation_f1\n",
        "            best_model = model\n",
        "            best_validation_f1 = validation_f1\n",
        "            best_confusion_matrix = confusion_matrix(y_test, best_model.predict(X_test))\n",
        "\n",
        "    # Calculate train, validation and testing with best model\n",
        "    train_f1 = f1_score(y_train_inner, best_model.predict(X_train_inner),average='micro')\n",
        "    validation_f1 = f1_score(y_val, best_model.predict(X_val),average='micro')\n",
        "    test_f1 = f1_score(y_test, best_model.predict(X_test),average='micro')\n",
        "\n",
        "    train_precision = precision_score(y_train_inner, best_model.predict(X_train_inner),average='micro')\n",
        "    validation_precision = precision_score(y_val, best_model.predict(X_val),average='micro')\n",
        "    test_precision = precision_score(y_test, best_model.predict(X_test),average='micro')\n",
        "\n",
        "    train_recall = recall_score(y_train_inner, best_model.predict(X_train_inner),average='micro')\n",
        "    validation_recall = recall_score(y_val, best_model.predict(X_val),average='micro')\n",
        "    test_recall = recall_score(y_test, best_model.predict(X_test),average='micro')\n",
        "\n",
        "    precision = dict()\n",
        "    recall = dict()\n",
        "    threshold = dict()\n",
        "    average_precision = dict()\n",
        "    y_true = y_test\n",
        "    y_true_bin = label_binarize(y_true, classes=np.unique(y_true))  # One-hot encode true labels\n",
        "    y_pred_probs = best_model.predict_proba(X_test)\n",
        "    n_classes = y_true_bin.shape[1]\n",
        "\n",
        "    for i in range(n_classes):\n",
        "      precision[i], recall[i], threshold[i] = precision_recall_curve(y_true_bin[:, i], y_pred_probs[:, i])\n",
        "      average_precision[i] = average_precision_score(y_true_bin[:, i], y_pred_probs[:, i])\n",
        "\n",
        "    # Find the optimal threshold that maximizes F1-score for each class\n",
        "    optimal_thresholds = dict()\n",
        "\n",
        "    for i in range(n_classes):\n",
        "      f1_scores = 2 * (precision[i] * recall[i]) / (precision[i] + recall[i])\n",
        "      optimal_thresholds[i] = threshold[i][np.argmax(f1_scores)]\n",
        "\n",
        "    # Store the precision-recall data and optimal thresholds for this fold\n",
        "    fold_data = {\n",
        "      'precision': precision,\n",
        "      'recall': recall,\n",
        "      'optimal_thresholds': optimal_thresholds,\n",
        "      'average_precision': average_precision\n",
        "    }\n",
        "\n",
        "    folds.append(fold_data)\n",
        "\n",
        "    score_dict = {\n",
        "        'fold_number' : fold_index,\n",
        "        'train' : {\n",
        "            'f1_score' : train_f1,\n",
        "            'precision' : train_precision,\n",
        "            'recall' : train_recall\n",
        "        },\n",
        "\n",
        "        'validation' : {\n",
        "            'f1_score' : validation_f1,\n",
        "            'precision' : validation_precision,\n",
        "            'recall' : validation_recall\n",
        "        },\n",
        "        'test' : {\n",
        "            'f1_score' : test_f1,\n",
        "            'precision' : test_precision,\n",
        "            'recall' : test_recall\n",
        "        },\n",
        "\n",
        "        'confusion_matrics' : confusion_matrix(y_test, best_model.predict(X_test)),\n",
        "        'precision_recall_curves' :  fold_data\n",
        "\n",
        "    }\n",
        "\n",
        "\n",
        "    scores.append(score_dict)\n"
      ],
      "metadata": {
        "colab": {
          "base_uri": "https://localhost:8080/"
        },
        "id": "vylaXIButyE6",
        "outputId": "675f8ece-50c3-4e3f-d825-491fc842ee4a"
      },
      "execution_count": null,
      "outputs": [
        {
          "output_type": "stream",
          "name": "stderr",
          "text": [
            "\rOuter CV Progress:   0%|          | 0/5 [00:00<?, ?it/s]"
          ]
        }
      ]
    },
    {
      "cell_type": "code",
      "source": [
        " # Average All the scores\n",
        "\n",
        "train_f1_values = []\n",
        "train_precision_values = []\n",
        "train_recall_values = []\n",
        "validation_f1_values = []\n",
        "validation_precision_values = []\n",
        "validation_recall_values = []\n",
        "test_f1_values = []\n",
        "test_precision_values = []\n",
        "test_recall_values = []\n",
        "\n",
        "# Iterate through the list of scores to collect metric values\n",
        "for fold_scores in scores:\n",
        "    train_f1_values.append(fold_scores['train']['f1_score'])\n",
        "    train_precision_values.append(fold_scores['train']['precision'])\n",
        "    train_recall_values.append(fold_scores['train']['recall'])\n",
        "\n",
        "    validation_f1_values.append(fold_scores['validation']['f1_score'])\n",
        "    validation_precision_values.append(fold_scores['validation']['precision'])\n",
        "    validation_recall_values.append(fold_scores['validation']['recall'])\n",
        "\n",
        "    test_f1_values.append(fold_scores['test']['f1_score'])\n",
        "    test_precision_values.append(fold_scores['test']['precision'])\n",
        "    test_recall_values.append(fold_scores['test']['recall'])\n",
        "\n",
        "# Calculate the average values for each metric\n",
        "average_train_f1 = sum(train_f1_values) / len(train_f1_values)\n",
        "average_train_precision = sum(train_precision_values) / len(train_precision_values)\n",
        "average_train_recall = sum(train_recall_values) / len(train_recall_values)\n",
        "\n",
        "average_validation_f1 = sum(validation_f1_values) / len(validation_f1_values)\n",
        "average_validation_precision = sum(validation_precision_values) / len(validation_precision_values)\n",
        "average_validation_recall = sum(validation_recall_values) / len(validation_recall_values)\n",
        "\n",
        "average_test_f1 = sum(test_f1_values) / len(test_f1_values)\n",
        "average_test_precision = sum(test_precision_values) / len(test_precision_values)\n",
        "average_test_recall = sum(test_recall_values) / len(test_recall_values)\n",
        "\n",
        "# Print or use the average values as needed\n",
        "print(\"Average Train F1 Score:\", average_train_f1)\n",
        "print(\"Average Train Precision:\", average_train_precision)\n",
        "print(\"Average Train Recall:\", average_train_recall)\n",
        "\n",
        "print(\"Average Validation F1 Score:\", average_validation_f1)\n",
        "print(\"Average Validation Precision:\", average_validation_precision)\n",
        "print(\"Average Validation Recall:\", average_validation_recall)\n",
        "\n",
        "print(\"Average Test F1 Score:\", average_test_f1)\n",
        "print(\"Average Test Precision:\", average_test_precision)\n",
        "print(\"Average Test Recall:\", average_test_recall)\n"
      ],
      "metadata": {
        "id": "1ZXlJcB30Rgd"
      },
      "execution_count": null,
      "outputs": []
    },
    {
      "cell_type": "markdown",
      "source": [
        "# Save Model"
      ],
      "metadata": {
        "id": "bHhNo8fH-Aym"
      }
    },
    {
      "cell_type": "code",
      "source": [
        "file_path = \"/content/drive/MyDrive/Colab Notebooks/Human Activities Recognition/model/\"\n",
        "name = \"2sensor_non-overlapping_nonLinear_svm_model\"\n",
        "\n",
        "import pickle\n",
        "\n",
        "# Load the model from the pickle file\n",
        "with open(f'{file_path}/{name}.pkl', 'wb') as file:\n",
        "    pickle.dump(best_model, file)\n",
        "\n",
        "# Now, 'loaded_model' contains your saved model\n"
      ],
      "metadata": {
        "id": "pfUMuimx_wZF"
      },
      "execution_count": null,
      "outputs": []
    },
    {
      "cell_type": "markdown",
      "source": [
        "# Save Data in json File"
      ],
      "metadata": {
        "id": "JiTgWXDi-E2w"
      }
    },
    {
      "cell_type": "code",
      "source": [
        "import json\n",
        "\n",
        "for entry in scores:\n",
        "    entry['confusion_matrics'] = entry['confusion_matrics'].tolist()\n",
        "\n",
        "    for key in entry['precision_recall_curves']['precision']:\n",
        "        entry['precision_recall_curves']['precision'][key] = entry['precision_recall_curves']['precision'][key].tolist()\n",
        "\n",
        "    for key in entry['precision_recall_curves']['recall']:\n",
        "        entry['precision_recall_curves']['recall'][key] = entry['precision_recall_curves']['recall'][key].tolist()\n",
        "\n",
        "\n",
        "# Load the list of dictionaries from the JSON file\n",
        "\n",
        "with open(f'{file_path}/{name}_scores.json', 'w') as json_file:\n",
        "    json.dump(scores, json_file)"
      ],
      "metadata": {
        "id": "eHoiXZCUnVF1"
      },
      "execution_count": null,
      "outputs": []
    },
    {
      "cell_type": "markdown",
      "source": [
        "# Pr curve"
      ],
      "metadata": {
        "id": "CimVUgrW-KHb"
      }
    },
    {
      "cell_type": "code",
      "source": [
        "import matplotlib.pyplot as plt\n",
        "import numpy as np\n",
        "\n",
        "# Define the number of classes and markers\n",
        "n_classes = 6\n",
        "markers = ['o', 's', '^', 'D', 'v', '*']  # You can extend this list with other markers\n",
        "\n",
        "# Create a sub-plot\n",
        "plt.figure(figsize=(10, 6))\n",
        "\n",
        "average_precision = [0] * n_classes\n",
        "\n",
        "for class_idx in range(n_classes):\n",
        "    # Calculate average precision and recall values\n",
        "    precision = [fold['precision'][class_idx] for fold in folds]\n",
        "    recall = [fold['recall'][class_idx] for fold in folds]\n",
        "\n",
        "    # Find the maximum length among precision and recall lists\n",
        "    max_length = max(len(precision[i]) for i in range(len(precision)))\n",
        "\n",
        "    # Pad the precision and recall lists to have the same length\n",
        "    padded_precision = [np.pad(precision[i], (0, max_length - len(precision[i])), 'constant', constant_values=np.nan) for i in range(len(precision))]\n",
        "    padded_recall = [np.pad(recall[i], (0, max_length - len(recall[i])), 'constant', constant_values=np.nan) for i in range(len(recall))]\n",
        "\n",
        "    # Calculate the mean precision and recall\n",
        "    avg_precision = np.nanmean(padded_precision, axis=0)\n",
        "    avg_recall = np.nanmean(padded_recall, axis=0)\n",
        "    average_precision[class_idx] = avg_precision[-1]\n",
        "\n",
        "    # Use a different marker for each class\n",
        "    marker = markers[class_idx % len(markers)]\n",
        "\n",
        "    plt.plot(avg_recall, avg_precision, marker=marker, markersize=2, label=f'Class {class_idx+1}')\n",
        "\n",
        "plt.xlabel('Recall')\n",
        "plt.ylabel('Precision')\n",
        "plt.title('2sensor non-overlapping: Non-Linear svm Precision-Recall Curve')\n",
        "plt.legend(loc='best')\n",
        "\n",
        "plt.show()\n"
      ],
      "metadata": {
        "id": "JoHta9swaVW2"
      },
      "execution_count": null,
      "outputs": []
    },
    {
      "cell_type": "markdown",
      "source": [
        "# Confusion Matrics"
      ],
      "metadata": {
        "id": "ttZZ3HDh-Nn2"
      }
    },
    {
      "cell_type": "code",
      "source": [
        "import numpy as np\n",
        "import matplotlib.pyplot as plt\n",
        "\n",
        "# Sample confusion matrix data\n",
        "confusion_matrix = best_confusion_matrix\n",
        "\n",
        "# Create a heatmap to visualize the confusion matrix\n",
        "plt.figure(figsize=(10, 8))\n",
        "plt.imshow(confusion_matrix, interpolation='nearest', cmap=plt.get_cmap('Blues'))\n",
        "plt.title('2sensor Non-Overlapping: Non-Linear svm model Confusion Matrix')\n",
        "plt.colorbar()\n",
        "\n",
        "# Add labels for the x and y axes\n",
        "classes = [1, 2, 3, 4, 5, 6]  # Replace with your class labels\n",
        "tick_marks = np.arange(len(classes))\n",
        "plt.xticks(tick_marks, classes)\n",
        "plt.yticks(tick_marks, classes)\n",
        "\n",
        "# Display the values in each cell of the heatmap\n",
        "thresh = confusion_matrix.max() / 2.0\n",
        "for i in range(len(classes)):\n",
        "    for j in range(len(classes)):\n",
        "        plt.text(j, i, str(confusion_matrix[i, j]), horizontalalignment=\"center\", color=\"white\" if confusion_matrix[i, j] > thresh else \"black\")\n",
        "\n",
        "plt.xlabel('Predicted')\n",
        "plt.ylabel('Actual')\n",
        "plt.tight_layout()\n",
        "plt.grid(False)  # Turn off grid lines\n",
        "plt.show()\n"
      ],
      "metadata": {
        "id": "Ynxqj4L2psEY"
      },
      "execution_count": null,
      "outputs": []
    },
    {
      "cell_type": "code",
      "source": [],
      "metadata": {
        "id": "f3ZDXwC8R9lG"
      },
      "execution_count": null,
      "outputs": []
    }
  ]
}