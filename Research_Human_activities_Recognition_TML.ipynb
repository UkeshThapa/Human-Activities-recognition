{
  "nbformat": 4,
  "nbformat_minor": 0,
  "metadata": {
    "colab": {
      "provenance": [],
      "mount_file_id": "https://github.com/UkeshThapa/Human-Activities-recognition/blob/main/Research_Human_activities_Recognition_TML.ipynb",
      "authorship_tag": "ABX9TyP0uZ+LI9blWDYYI62f2+yn",
      "include_colab_link": true
    },
    "kernelspec": {
      "name": "python3",
      "display_name": "Python 3"
    },
    "language_info": {
      "name": "python"
    }
  },
  "cells": [
    {
      "cell_type": "markdown",
      "metadata": {
        "id": "view-in-github",
        "colab_type": "text"
      },
      "source": [
        "<a href=\"https://colab.research.google.com/github/UkeshThapa/Human-Activities-recognition/blob/main/Research_Human_activities_Recognition_TML.ipynb\" target=\"_parent\"><img src=\"https://colab.research.google.com/assets/colab-badge.svg\" alt=\"Open In Colab\"/></a>"
      ]
    },
    {
      "cell_type": "markdown",
      "source": [
        "# Research on Human Activities Recognition with TML\n",
        "#### @author1 : John Bernardo\n",
        "#### @email1 : jaybz.bernardo@gmail.com\n",
        "\n",
        "####\n",
        "#### @author2 : Bipun Man Pati Gubaju\n",
        "#### @email2 : bemaanpati@gmail.com\n",
        "\n",
        "#### ----------------------------------------------------------------------------------------------------------------------------------------------------------------------####\n",
        "\n",
        "\n",
        "\n",
        "#### Code By:\n",
        "#### @author : Ukesh Thapa\n",
        "#### @email : yukeshthapa8@gmail.com\n"
      ],
      "metadata": {
        "id": "8BvcUa43kFRr"
      }
    },
    {
      "cell_type": "code",
      "execution_count": 1,
      "metadata": {
        "id": "sK8L25fsQwdf"
      },
      "outputs": [],
      "source": [
        "# import library\n",
        "\n",
        "import pandas as pd\n",
        "import numpy as np\n",
        "import seaborn as sns\n",
        "import matplotlib.pyplot as plt\n",
        "from sklearn.preprocessing import StandardScaler\n",
        "from sklearn.preprocessing import MinMaxScaler\n",
        "from sklearn.neighbors import KNeighborsClassifier\n",
        "from sklearn.model_selection import GridSearchCV\n",
        "from sklearn.metrics import accuracy_score, classification_report, confusion_matrix,precision_score, recall_score, f1_score, roc_auc_score\n",
        "from sklearn.model_selection import cross_val_score, KFold\n"
      ]
    },
    {
      "cell_type": "code",
      "source": [
        "def load_dataset_and_merge(file_paths):\n",
        "  dfs = []\n",
        "\n",
        "  # Loop through each file, read it into a DataFrame, and append to the list\n",
        "  for file_path in file_paths:\n",
        "      df = pd.read_excel(file_path)\n",
        "      dfs.append(df)\n",
        "  combined_df = pd.concat(dfs,axis=0, ignore_index=True)\n",
        "\n",
        "  return combined_df\n",
        "\n",
        "\n",
        "\n",
        "xlsx_name = [\"aung\",\"aung_ph\",\"bipun\",\"john\",\"kaung\",\"kavin\",\"manash\",\"person_2\",\"person_3\",\"praew\",\"su\"]\n",
        "\n"
      ],
      "metadata": {
        "id": "T5tZqZHQwXmG"
      },
      "execution_count": null,
      "outputs": []
    },
    {
      "cell_type": "markdown",
      "source": [
        "# 2 Sensors"
      ],
      "metadata": {
        "id": "zkqaLSGlsFDo"
      }
    },
    {
      "cell_type": "markdown",
      "source": [
        "# Non-overlapping Dataset"
      ],
      "metadata": {
        "id": "cjBqjwBnsKW8"
      }
    },
    {
      "cell_type": "code",
      "source": [
        "\n",
        "file_path = \"/content/drive/MyDrive/Colab Notebooks/Human Activities Recognition/Dataset/2 Sensors/non-overlapping/Train_Test_Data\"\n",
        "\n",
        "cv_data_name = []\n",
        "for name in xlsx_name:\n",
        "    cv_data_name.append(f\"{file_path}/final_{name}.xlsx\")\n",
        "\n",
        "df_all = load_dataset_and_merge(cv_data_name)\n",
        "\n",
        "normalize_all_data = df_all.iloc[:, :-1]\n",
        "scaler = MinMaxScaler()\n",
        "scaler.fit(normalize_all_data)\n",
        "\n",
        "df_all.iloc[:, :-1] = scaler.transform(normalize_all_data)\n",
        "\n",
        "X = df_all.iloc[:, :-1].values\n",
        "y = df_all['output'].values"
      ],
      "metadata": {
        "id": "1x3t3BV7tF4n"
      },
      "execution_count": null,
      "outputs": []
    },
    {
      "cell_type": "code",
      "source": [
        "# Data visulaization\n",
        "\n",
        "fig, (ax1, ax2) = plt.subplots(1, 2, figsize=(12, 5))  # 1 row, 2 columns of subplots\n",
        "\n",
        "# Plot the output column for the training DataFrame in the first subplot (ax1)\n",
        "ax1.set_title('Training Data')\n",
        "# Add your visualization for the output column of the training data (e.g., histogram, bar plot, etc.)\n",
        "df_all['output'].plot(kind='hist', ax=ax1)\n",
        "\n",
        "# Plot the output column for the test DataFrame in the second subplot (ax2)\n",
        "ax2.set_title('Test Data')\n",
        "# Add your visualization for the output column of the test data (e.g., histogram, bar plot, etc.)\n",
        "df_all['output'].plot(kind='hist', ax=ax2)\n",
        "\n",
        "# Adjust spacing between subplots\n",
        "plt.tight_layout()\n",
        "\n",
        "# Show the figure\n",
        "plt.show()"
      ],
      "metadata": {
        "colab": {
          "base_uri": "https://localhost:8080/",
          "height": 507
        },
        "id": "bBciYa0hae0D",
        "outputId": "de55ef44-ec09-4bb9-a1d5-1a0cd1796fc9"
      },
      "execution_count": null,
      "outputs": [
        {
          "output_type": "display_data",
          "data": {
            "text/plain": [
              "<Figure size 1200x500 with 2 Axes>"
            ],
            "image/png": "[encoded data removed]"
          },
          "metadata": {}
        }
      ]
    },
    {
      "cell_type": "markdown",
      "source": [
        "# Cross Validation"
      ],
      "metadata": {
        "id": "QGNAAWGemZt1"
      }
    },
    {
      "cell_type": "markdown",
      "source": [
        "# knn"
      ],
      "metadata": {
        "id": "BBbK6gia5wNb"
      }
    },
    {
      "cell_type": "code",
      "source": [
        "from tqdm import tqdm\n",
        "from sklearn.model_selection import GridSearchCV, StratifiedKFold\n",
        "from sklearn.neighbors import KNeighborsClassifier\n",
        "\n",
        "# Define the parameter grid for hyperparameter tuning\n",
        "param_grid = {\n",
        "    'n_neighbors': [1, 3, 5, 7, 9],  # Specify the range of neighbors\n",
        "    'weights': ['uniform', 'distance'],  # Weights for the neighbors\n",
        "    'p': [1, 2]  # Distance metric (1 for Manhattan, 2 for Euclidean)\n",
        "}\n",
        "\n",
        "# Create a KNN classifier\n",
        "knn = KNeighborsClassifier(metric='cosine')\n",
        "# knn = KNeighborsClassifier()\n",
        "\n",
        "folds = [10,20,30]\n",
        "\n",
        "\n",
        "for fold in folds:\n",
        "    # Define the outer cross-validation loop\n",
        "    outer_cv = StratifiedKFold(n_splits=fold, shuffle=True, random_state=42)\n",
        "\n",
        "    # Initialize lists to store accuracy for each fold\n",
        "    train_accuracies = []\n",
        "    test_accuracies = []\n",
        "    validation_accuracies = []\n",
        "    # Create a tqdm progress bar for the combined outer and inner loop\n",
        "    for fold_index, (train_index, test_index) in enumerate(tqdm(outer_cv.split(X, y), total=fold, desc=\"Nested CV Progress\")):\n",
        "        X_train, X_test = X[train_index], X[test_index]\n",
        "        y_train, y_test = y[train_index], y[test_index]\n",
        "\n",
        "        # Create an inner cross-validation loop for hyperparameter tuning\n",
        "        inner_cv = StratifiedKFold(n_splits=3, shuffle=True, random_state=42)\n",
        "\n",
        "        # Initialize lists to store validation data for tracking validation accuracy\n",
        "        val_X = []\n",
        "        val_y = []\n",
        "\n",
        "        # Create a tqdm progress bar for the inner loop\n",
        "        for inner_index, (train_index, val_index) in enumerate(tqdm(inner_cv.split(X_train, y_train), total=3, desc=\"Inner CV Progress\")):\n",
        "            X_train_inner, X_val = X_train[train_index], X_train[val_index]\n",
        "            y_train_inner, y_val = y_train[train_index], y_train[val_index]\n",
        "\n",
        "            # Create an inner grid search with the KNN model and parameter grid\n",
        "            grid_search = GridSearchCV(estimator=knn, param_grid=param_grid, cv=inner_cv, scoring='accuracy')\n",
        "\n",
        "            # Fit the grid search on the training data\n",
        "            grid_search.fit(X_train_inner, y_train_inner)\n",
        "\n",
        "            # Get the best hyperparameters from the grid search\n",
        "            best_params = grid_search.best_params_\n",
        "\n",
        "            # Create a KNN classifier with the best hyperparameters\n",
        "            best_knn = KNeighborsClassifier(**best_params)\n",
        "\n",
        "            # Fit the best KNN classifier on the training data\n",
        "            best_knn.fit(X_train_inner, y_train_inner)\n",
        "\n",
        "\n",
        "\n",
        "        # Calculate accuracy on the validation data\n",
        "        train_accuracy = best_knn.score(X_train_inner, y_train_inner)\n",
        "        train_accuracies.append(train_accuracy)\n",
        "\n",
        "        # Calculate accuracy on the validation data\n",
        "        validation_accuracy = best_knn.score(X_val, y_val)\n",
        "        validation_accuracies.append(validation_accuracy)\n",
        "\n",
        "        # Calculate accuracy on the test data\n",
        "        test_accuracy = best_knn.score(X_test, y_test)\n",
        "        test_accuracies.append(test_accuracy)\n",
        "\n",
        "        # Update the outer progress bar description\n",
        "        tqdm.write(f\"Fold {fold_index + 1} - Test Accuracy: {test_accuracy:.2f}\")\n",
        "\n",
        "    # Calculate the average train, test, and validation accuracy\n",
        "    average_train_accuracy = sum(train_accuracies) / len(train_accuracies)\n",
        "    average_test_accuracy = sum(test_accuracies) / len(test_accuracies)\n",
        "    average_validation_accuracy = sum(validation_accuracies) / len(validation_accuracies)\n",
        "\n",
        "    print(f\"{fold} data\")\n",
        "\n",
        "    print(\"Average Train Accuracy:\", average_train_accuracy)\n",
        "    print(\"Average Test Accuracy:\", average_test_accuracy)\n",
        "    print(\"Average Validation Accuracy:\", average_validation_accuracy)\n",
        "    print(\"\\n\\n\")\n"
      ],
      "metadata": {
        "colab": {
          "base_uri": "https://localhost:8080/"
        },
        "id": "KwuUo6Nms6dS",
        "outputId": "9afc36e9-0fdb-4a79-b74e-99e9c1f6b829"
      },
      "execution_count": null,
      "outputs": [
        {
          "output_type": "stream",
          "name": "stdout",
          "text": [
            "Mean Accuracy: 0.971\n",
            "Mean Precision: 0.983\n",
            "Mean Recall: 0.975\n",
            "Mean F1-Score: 0.978\n"
          ]
        }
      ]
    },
    {
      "cell_type": "markdown",
      "source": [
        "# Decision Tree"
      ],
      "metadata": {
        "id": "Cd7b1SjE50Av"
      }
    },
    {
      "cell_type": "code",
      "source": [
        "from tqdm import tqdm\n",
        "from sklearn.model_selection import GridSearchCV, StratifiedKFold\n",
        "from sklearn.neighbors import KNeighborsClassifier\n",
        "\n",
        "# Define the parameter grid for hyperparameter tuning\n",
        "param_grid = {\n",
        "    'n_neighbors': [1, 3, 5, 7, 9],  # Specify the range of neighbors\n",
        "    'weights': ['uniform', 'distance'],  # Weights for the neighbors\n",
        "    'p': [1, 2]  # Distance metric (1 for Manhattan, 2 for Euclidean)\n",
        "}\n",
        "\n",
        "# Create a KNN classifier\n",
        "knn = KNeighborsClassifier(metric='cosine')\n",
        "# knn = KNeighborsClassifier()\n",
        "\n",
        "folds = [10,20,30]\n",
        "\n",
        "\n",
        "for fold in folds:\n",
        "    # Define the outer cross-validation loop\n",
        "    outer_cv = StratifiedKFold(n_splits=fold, shuffle=True, random_state=42)\n",
        "\n",
        "    # Initialize lists to store accuracy for each fold\n",
        "    train_accuracies = []\n",
        "    test_accuracies = []\n",
        "    validation_accuracies = []\n",
        "    # Create a tqdm progress bar for the combined outer and inner loop\n",
        "    for fold_index, (train_index, test_index) in enumerate(tqdm(outer_cv.split(X, y), total=fold, desc=\"Nested CV Progress\")):\n",
        "        X_train, X_test = X[train_index], X[test_index]\n",
        "        y_train, y_test = y[train_index], y[test_index]\n",
        "\n",
        "        # Create an inner cross-validation loop for hyperparameter tuning\n",
        "        inner_cv = StratifiedKFold(n_splits=3, shuffle=True, random_state=42)\n",
        "\n",
        "        # Initialize lists to store validation data for tracking validation accuracy\n",
        "        val_X = []\n",
        "        val_y = []\n",
        "\n",
        "        # Create a tqdm progress bar for the inner loop\n",
        "        for inner_index, (train_index, val_index) in enumerate(tqdm(inner_cv.split(X_train, y_train), total=3, desc=\"Inner CV Progress\")):\n",
        "            X_train_inner, X_val = X_train[train_index], X_train[val_index]\n",
        "            y_train_inner, y_val = y_train[train_index], y_train[val_index]\n",
        "\n",
        "            # Create an inner grid search with the KNN model and parameter grid\n",
        "            grid_search = GridSearchCV(estimator=knn, param_grid=param_grid, cv=inner_cv, scoring='accuracy')\n",
        "\n",
        "            # Fit the grid search on the training data\n",
        "            grid_search.fit(X_train_inner, y_train_inner)\n",
        "\n",
        "            # Get the best hyperparameters from the grid search\n",
        "            best_params = grid_search.best_params_\n",
        "\n",
        "            # Create a KNN classifier with the best hyperparameters\n",
        "            best_knn = KNeighborsClassifier(**best_params)\n",
        "\n",
        "            # Fit the best KNN classifier on the training data\n",
        "            best_knn.fit(X_train_inner, y_train_inner)\n",
        "\n",
        "\n",
        "\n",
        "        # Calculate accuracy on the validation data\n",
        "        train_accuracy = best_knn.score(X_train_inner, y_train_inner)\n",
        "        train_accuracies.append(train_accuracy)\n",
        "\n",
        "        # Calculate accuracy on the validation data\n",
        "        validation_accuracy = best_knn.score(X_val, y_val)\n",
        "        validation_accuracies.append(validation_accuracy)\n",
        "\n",
        "        # Calculate accuracy on the test data\n",
        "        test_accuracy = best_knn.score(X_test, y_test)\n",
        "        test_accuracies.append(test_accuracy)\n",
        "\n",
        "        # Update the outer progress bar description\n",
        "        tqdm.write(f\"Fold {fold_index + 1} - Test Accuracy: {test_accuracy:.2f}\")\n",
        "\n",
        "    # Calculate the average train, test, and validation accuracy\n",
        "    average_train_accuracy = sum(train_accuracies) / len(train_accuracies)\n",
        "    average_test_accuracy = sum(test_accuracies) / len(test_accuracies)\n",
        "    average_validation_accuracy = sum(validation_accuracies) / len(validation_accuracies)\n",
        "\n",
        "    print(f\"{fold} data\")\n",
        "\n",
        "    print(\"Average Train Accuracy:\", average_train_accuracy)\n",
        "    print(\"Average Test Accuracy:\", average_test_accuracy)\n",
        "    print(\"Average Validation Accuracy:\", average_validation_accuracy)\n",
        "    print(\"\\n\\n\")\n"
      ],
      "metadata": {
        "id": "yWzPLYDmqDvB"
      },
      "execution_count": null,
      "outputs": []
    },
    {
      "cell_type": "markdown",
      "source": [
        "# 50% overlapping"
      ],
      "metadata": {
        "id": "w88eEWr26RvP"
      }
    },
    {
      "cell_type": "code",
      "source": [
        "\n",
        "file_path = \"/content/drive/MyDrive/Colab Notebooks/Human Activities Recognition/Dataset/2 Sensors/non-overlapping/Train_Test_Data\"\n",
        "\n",
        "cv_data_name = []\n",
        "for name in xlsx_name:\n",
        "    cv_data_name.append(f\"{file_path}/final_{name}.xlsx\")\n",
        "\n",
        "df_all = load_dataset_and_merge(cv_data_name)\n",
        "\n",
        "normalize_all_data = df_all.iloc[:, :-1]\n",
        "scaler = MinMaxScaler()\n",
        "scaler.fit(normalize_all_data)\n",
        "\n",
        "df_all.iloc[:, :-1] = scaler.transform(normalize_all_data)\n",
        "\n",
        "X = df_all.iloc[:, :-1].values\n",
        "y = df_all['output'].values"
      ],
      "metadata": {
        "id": "7NMm2TxL6VKZ"
      },
      "execution_count": null,
      "outputs": []
    },
    {
      "cell_type": "markdown",
      "source": [
        "# knn"
      ],
      "metadata": {
        "id": "hV50UrMb6d0_"
      }
    },
    {
      "cell_type": "code",
      "source": [
        "from tqdm import tqdm\n",
        "from sklearn.model_selection import GridSearchCV, StratifiedKFold\n",
        "from sklearn.neighbors import KNeighborsClassifier\n",
        "\n",
        "# Define the parameter grid for hyperparameter tuning\n",
        "param_grid = {\n",
        "    'n_neighbors': [1, 3, 5, 7, 9],  # Specify the range of neighbors\n",
        "    'weights': ['uniform', 'distance'],  # Weights for the neighbors\n",
        "    'p': [1, 2]  # Distance metric (1 for Manhattan, 2 for Euclidean)\n",
        "}\n",
        "\n",
        "# Create a KNN classifier\n",
        "knn = KNeighborsClassifier(metric='cosine')\n",
        "# knn = KNeighborsClassifier()\n",
        "\n",
        "folds = [10,20,30]\n",
        "\n",
        "\n",
        "for fold in folds:\n",
        "    # Define the outer cross-validation loop\n",
        "    outer_cv = StratifiedKFold(n_splits=fold, shuffle=True, random_state=42)\n",
        "\n",
        "    # Initialize lists to store accuracy for each fold\n",
        "    train_accuracies = []\n",
        "    test_accuracies = []\n",
        "    validation_accuracies = []\n",
        "    # Create a tqdm progress bar for the combined outer and inner loop\n",
        "    for fold_index, (train_index, test_index) in enumerate(tqdm(outer_cv.split(X, y), total=fold, desc=\"Nested CV Progress\")):\n",
        "        X_train, X_test = X[train_index], X[test_index]\n",
        "        y_train, y_test = y[train_index], y[test_index]\n",
        "\n",
        "        # Create an inner cross-validation loop for hyperparameter tuning\n",
        "        inner_cv = StratifiedKFold(n_splits=3, shuffle=True, random_state=42)\n",
        "\n",
        "        # Initialize lists to store validation data for tracking validation accuracy\n",
        "        val_X = []\n",
        "        val_y = []\n",
        "\n",
        "        # Create a tqdm progress bar for the inner loop\n",
        "        for inner_index, (train_index, val_index) in enumerate(tqdm(inner_cv.split(X_train, y_train), total=3, desc=\"Inner CV Progress\")):\n",
        "            X_train_inner, X_val = X_train[train_index], X_train[val_index]\n",
        "            y_train_inner, y_val = y_train[train_index], y_train[val_index]\n",
        "\n",
        "            # Create an inner grid search with the KNN model and parameter grid\n",
        "            grid_search = GridSearchCV(estimator=knn, param_grid=param_grid, cv=inner_cv, scoring='accuracy')\n",
        "\n",
        "            # Fit the grid search on the training data\n",
        "            grid_search.fit(X_train_inner, y_train_inner)\n",
        "\n",
        "            # Get the best hyperparameters from the grid search\n",
        "            best_params = grid_search.best_params_\n",
        "\n",
        "            # Create a KNN classifier with the best hyperparameters\n",
        "            best_knn = KNeighborsClassifier(**best_params)\n",
        "\n",
        "            # Fit the best KNN classifier on the training data\n",
        "            best_knn.fit(X_train_inner, y_train_inner)\n",
        "\n",
        "\n",
        "\n",
        "        # Calculate accuracy on the validation data\n",
        "        train_accuracy = best_knn.score(X_train_inner, y_train_inner)\n",
        "        train_accuracies.append(train_accuracy)\n",
        "\n",
        "        # Calculate accuracy on the validation data\n",
        "        validation_accuracy = best_knn.score(X_val, y_val)\n",
        "        validation_accuracies.append(validation_accuracy)\n",
        "\n",
        "        # Calculate accuracy on the test data\n",
        "        test_accuracy = best_knn.score(X_test, y_test)\n",
        "        test_accuracies.append(test_accuracy)\n",
        "\n",
        "        # Update the outer progress bar description\n",
        "        tqdm.write(f\"Fold {fold_index + 1} - Test Accuracy: {test_accuracy:.2f}\")\n",
        "\n",
        "    # Calculate the average train, test, and validation accuracy\n",
        "    average_train_accuracy = sum(train_accuracies) / len(train_accuracies)\n",
        "    average_test_accuracy = sum(test_accuracies) / len(test_accuracies)\n",
        "    average_validation_accuracy = sum(validation_accuracies) / len(validation_accuracies)\n",
        "\n",
        "    print(f\"{fold} data\")\n",
        "\n",
        "    print(\"Average Train Accuracy:\", average_train_accuracy)\n",
        "    print(\"Average Test Accuracy:\", average_test_accuracy)\n",
        "    print(\"Average Validation Accuracy:\", average_validation_accuracy)\n",
        "    print(\"\\n\\n\")\n"
      ],
      "metadata": {
        "id": "Q8dn_4XW6f3I"
      },
      "execution_count": null,
      "outputs": []
    },
    {
      "cell_type": "markdown",
      "source": [
        "# decision Tree"
      ],
      "metadata": {
        "id": "Ok_hjtJM6aGT"
      }
    },
    {
      "cell_type": "code",
      "source": [
        "from tqdm import tqdm\n",
        "from sklearn.model_selection import GridSearchCV, StratifiedKFold\n",
        "from sklearn.neighbors import KNeighborsClassifier\n",
        "\n",
        "# Define the parameter grid for hyperparameter tuning\n",
        "param_grid = {\n",
        "    'n_neighbors': [1, 3, 5, 7, 9],  # Specify the range of neighbors\n",
        "    'weights': ['uniform', 'distance'],  # Weights for the neighbors\n",
        "    'p': [1, 2]  # Distance metric (1 for Manhattan, 2 for Euclidean)\n",
        "}\n",
        "\n",
        "# Create a KNN classifier\n",
        "knn = KNeighborsClassifier(metric='cosine')\n",
        "# knn = KNeighborsClassifier()\n",
        "\n",
        "folds = [10,20,30]\n",
        "\n",
        "\n",
        "for fold in folds:\n",
        "    # Define the outer cross-validation loop\n",
        "    outer_cv = StratifiedKFold(n_splits=fold, shuffle=True, random_state=42)\n",
        "\n",
        "    # Initialize lists to store accuracy for each fold\n",
        "    train_accuracies = []\n",
        "    test_accuracies = []\n",
        "    validation_accuracies = []\n",
        "    # Create a tqdm progress bar for the combined outer and inner loop\n",
        "    for fold_index, (train_index, test_index) in enumerate(tqdm(outer_cv.split(X, y), total=fold, desc=\"Nested CV Progress\")):\n",
        "        X_train, X_test = X[train_index], X[test_index]\n",
        "        y_train, y_test = y[train_index], y[test_index]\n",
        "\n",
        "        # Create an inner cross-validation loop for hyperparameter tuning\n",
        "        inner_cv = StratifiedKFold(n_splits=3, shuffle=True, random_state=42)\n",
        "\n",
        "        # Initialize lists to store validation data for tracking validation accuracy\n",
        "        val_X = []\n",
        "        val_y = []\n",
        "\n",
        "        # Create a tqdm progress bar for the inner loop\n",
        "        for inner_index, (train_index, val_index) in enumerate(tqdm(inner_cv.split(X_train, y_train), total=3, desc=\"Inner CV Progress\")):\n",
        "            X_train_inner, X_val = X_train[train_index], X_train[val_index]\n",
        "            y_train_inner, y_val = y_train[train_index], y_train[val_index]\n",
        "\n",
        "            # Create an inner grid search with the KNN model and parameter grid\n",
        "            grid_search = GridSearchCV(estimator=knn, param_grid=param_grid, cv=inner_cv, scoring='accuracy')\n",
        "\n",
        "            # Fit the grid search on the training data\n",
        "            grid_search.fit(X_train_inner, y_train_inner)\n",
        "\n",
        "            # Get the best hyperparameters from the grid search\n",
        "            best_params = grid_search.best_params_\n",
        "\n",
        "            # Create a KNN classifier with the best hyperparameters\n",
        "            best_knn = KNeighborsClassifier(**best_params)\n",
        "\n",
        "            # Fit the best KNN classifier on the training data\n",
        "            best_knn.fit(X_train_inner, y_train_inner)\n",
        "\n",
        "\n",
        "\n",
        "        # Calculate accuracy on the validation data\n",
        "        train_accuracy = best_knn.score(X_train_inner, y_train_inner)\n",
        "        train_accuracies.append(train_accuracy)\n",
        "\n",
        "        # Calculate accuracy on the validation data\n",
        "        validation_accuracy = best_knn.score(X_val, y_val)\n",
        "        validation_accuracies.append(validation_accuracy)\n",
        "\n",
        "        # Calculate accuracy on the test data\n",
        "        test_accuracy = best_knn.score(X_test, y_test)\n",
        "        test_accuracies.append(test_accuracy)\n",
        "\n",
        "        # Update the outer progress bar description\n",
        "        tqdm.write(f\"Fold {fold_index + 1} - Test Accuracy: {test_accuracy:.2f}\")\n",
        "\n",
        "    # Calculate the average train, test, and validation accuracy\n",
        "    average_train_accuracy = sum(train_accuracies) / len(train_accuracies)\n",
        "    average_test_accuracy = sum(test_accuracies) / len(test_accuracies)\n",
        "    average_validation_accuracy = sum(validation_accuracies) / len(validation_accuracies)\n",
        "\n",
        "    print(f\"{fold} data\")\n",
        "\n",
        "    print(\"Average Train Accuracy:\", average_train_accuracy)\n",
        "    print(\"Average Test Accuracy:\", average_test_accuracy)\n",
        "    print(\"Average Validation Accuracy:\", average_validation_accuracy)\n",
        "    print(\"\\n\\n\")\n"
      ],
      "metadata": {
        "id": "LcUWNI266crA"
      },
      "execution_count": null,
      "outputs": []
    }
  ]
}