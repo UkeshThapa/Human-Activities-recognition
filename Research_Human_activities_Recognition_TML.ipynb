{
  "nbformat": 4,
  "nbformat_minor": 0,
  "metadata": {
    "colab": {
      "provenance": [],
      "mount_file_id": "https://github.com/UkeshThapa/Human-Activities-recognition/blob/main/Research_Human_activities_Recognition_TML.ipynb",
      "authorship_tag": "ABX9TyNbFVbosEBtRvJoTIf9wC39",
      "include_colab_link": true
    },
    "kernelspec": {
      "name": "python3",
      "display_name": "Python 3"
    },
    "language_info": {
      "name": "python"
    }
  },
  "cells": [
    {
      "cell_type": "markdown",
      "metadata": {
        "id": "view-in-github",
        "colab_type": "text"
      },
      "source": [
        "<a href=\"https://colab.research.google.com/github/UkeshThapa/Human-Activities-recognition/blob/main/Research_Human_activities_Recognition_TML.ipynb\" target=\"_parent\"><img src=\"https://colab.research.google.com/assets/colab-badge.svg\" alt=\"Open In Colab\"/></a>"
      ]
    },
    {
      "cell_type": "markdown",
      "source": [
        "# Research on Human Activities Recognition with TML\n",
        "#### @author1 : John Bernardo\n",
        "#### @email1 : jaybz.bernardo@gmail.com\n",
        "\n",
        "####\n",
        "#### @author2 : Bipun Man Pati Gubaju\n",
        "#### @email2 : bemaanpati@gmail.com\n",
        "\n",
        "#### ----------------------------------------------------------------------------------------------------------------------------------------------------------------------####\n",
        "\n",
        "\n",
        "\n",
        "#### Code By:\n",
        "#### @author : Ukesh Thapa\n",
        "#### @email : yukeshthapa8@gmail.com\n"
      ],
      "metadata": {
        "id": "8BvcUa43kFRr"
      }
    },
    {
      "cell_type": "code",
      "execution_count": 63,
      "metadata": {
        "id": "sK8L25fsQwdf"
      },
      "outputs": [],
      "source": [
        "# import library\n",
        "\n",
        "import pandas as pd\n",
        "import numpy as np\n",
        "import seaborn as sns\n",
        "import matplotlib.pyplot as plt\n",
        "from sklearn.preprocessing import StandardScaler\n",
        "from sklearn.preprocessing import MinMaxScaler\n",
        "from sklearn.neighbors import KNeighborsClassifier\n",
        "from sklearn.model_selection import GridSearchCV\n",
        "from sklearn.metrics import accuracy_score, classification_report, confusion_matrix\n"
      ]
    },
    {
      "cell_type": "markdown",
      "source": [
        "# 2 Sensors"
      ],
      "metadata": {
        "id": "zkqaLSGlsFDo"
      }
    },
    {
      "cell_type": "markdown",
      "source": [
        "# Non-overlapping Dataset"
      ],
      "metadata": {
        "id": "cjBqjwBnsKW8"
      }
    },
    {
      "cell_type": "code",
      "source": [
        "def load_dataset_and_merge(file_paths):\n",
        "  dfs = []\n",
        "\n",
        "  # Loop through each file, read it into a DataFrame, and append to the list\n",
        "  for file_path in file_paths:\n",
        "      df = pd.read_excel(file_path)\n",
        "      dfs.append(df)\n",
        "  combined_df = pd.concat(dfs,axis=0, ignore_index=True)\n",
        "\n",
        "  return combined_df"
      ],
      "metadata": {
        "id": "T5tZqZHQwXmG"
      },
      "execution_count": 32,
      "outputs": []
    },
    {
      "cell_type": "code",
      "source": [
        "file_path = \"/content/drive/MyDrive/Colab Notebooks/Human Activities Recognition/Dataset/2 Sensors/non-overlapping/Train_Test_Data\"\n",
        "xlsx_name = [\"aung\",\"aung_ph\",\"bipun\",\"john\",\"kaung\",\"kavin\",\"manash\",\"person_2\",\"person_3\",\"praew\",\"su\"]\n",
        "\n",
        "split_data_name = [\"manash\",\"john\"]\n",
        "\n",
        "train_data_name = []\n",
        "test_data_name = []\n",
        "\n",
        "# train data\n",
        "for name in xlsx_name:\n",
        "  if name not in split_data_name:\n",
        "      train_data_name.append(f\"{file_path}/final_{name}.xlsx\")\n",
        "\n",
        "for name in split_data_name:\n",
        "    test_data_name.append(f\"{file_path}/final_{name}.xlsx\")\n",
        "\n",
        "\n",
        "df_train = load_dataset_and_merge(train_data_name)\n",
        "# test\n",
        "df_test = load_dataset_and_merge(test_data_name)\n"
      ],
      "metadata": {
        "id": "IMaIJBT3pOX0"
      },
      "execution_count": 33,
      "outputs": []
    },
    {
      "cell_type": "code",
      "source": [
        "# Data visulaization\n",
        "\n",
        "fig, (ax1, ax2) = plt.subplots(1, 2, figsize=(12, 5))  # 1 row, 2 columns of subplots\n",
        "\n",
        "# Plot the output column for the training DataFrame in the first subplot (ax1)\n",
        "ax1.set_title('Training Data')\n",
        "# Add your visualization for the output column of the training data (e.g., histogram, bar plot, etc.)\n",
        "df_train['output'].plot(kind='hist', ax=ax1)\n",
        "\n",
        "# Plot the output column for the test DataFrame in the second subplot (ax2)\n",
        "ax2.set_title('Test Data')\n",
        "# Add your visualization for the output column of the test data (e.g., histogram, bar plot, etc.)\n",
        "df_test['output'].plot(kind='hist', ax=ax2)\n",
        "\n",
        "# Adjust spacing between subplots\n",
        "plt.tight_layout()\n",
        "\n",
        "# Show the figure\n",
        "plt.show()"
      ],
      "metadata": {
        "colab": {
          "base_uri": "https://localhost:8080/",
          "height": 507
        },
        "id": "bBciYa0hae0D",
        "outputId": "ccfbebb0-685d-4867-be08-bf4e31673100"
      },
      "execution_count": 34,
      "outputs": [
        {
          "output_type": "display_data",
          "data": {
            "text/plain": [
              "<Figure size 1200x500 with 2 Axes>"
            ],
            "image/png": "[encoded data removed]"
          },
          "metadata": {}
        }
      ]
    },
    {
      "cell_type": "code",
      "source": [
        "# data normalization\n",
        "normalize_train_data = df_train.iloc[:, :-1]\n",
        "scaler = MinMaxScaler()\n",
        "scaler.fit(normalize_train_data)\n",
        "df_train.iloc[:, :-1] = scaler.transform(normalize_train_data)\n",
        "\n",
        "X_train = df_train.iloc[:, :-1].values\n",
        "y_train = df_train['output'].values\n"
      ],
      "metadata": {
        "id": "6vffX863bLRU"
      },
      "execution_count": 35,
      "outputs": []
    },
    {
      "cell_type": "code",
      "source": [
        "normalize_test_data = df_test.iloc[:, :-1]\n",
        "scaler.fit(normalize_train_data)\n",
        "df_test.iloc[:, :-1] = scaler.transform(normalize_test_data)\n",
        "\n",
        "X_test = df_test.iloc[:, :-1].values\n",
        "y_test = df_test['output'].values"
      ],
      "metadata": {
        "id": "5TfmrQq6tLMY"
      },
      "execution_count": 36,
      "outputs": []
    },
    {
      "cell_type": "markdown",
      "source": [
        "# KNN"
      ],
      "metadata": {
        "id": "ePAdT2w3qb9a"
      }
    },
    {
      "cell_type": "code",
      "source": [
        "# Create a KNN classifier\n",
        "knn = KNeighborsClassifier()\n",
        "\n",
        "# Define a grid of hyperparameter values to search\n",
        "param_grid = {\n",
        "    'n_neighbors': list(range(3,14)),  # Adjust the range as needed\n",
        "    'weights': ['uniform', 'distance'],  # Weighting schemes\n",
        "    'p': [1, 2],  # Minkowski distance power (1 for Manhattan, 2 for Euclidean)\n",
        "}\n",
        "\n",
        "# Perform grid search with cross-validation\n",
        "grid_search = GridSearchCV(estimator=knn, param_grid=param_grid, cv=5, scoring='accuracy')\n",
        "grid_search.fit(X_train, y_train)\n",
        "\n",
        "best_params = grid_search.best_params_\n",
        "\n",
        "\n",
        "# Create a KNN model with the best hyperparameters\n",
        "best_knn = KNeighborsClassifier(**best_params)\n",
        "\n",
        "# Train the best KNN model on the training data\n",
        "best_knn.fit(X_train, y_train)\n",
        "\n",
        "# Evaluate the best model on the test data\n",
        "accuracy = best_knn.score(X_test, y_test)\n",
        "\n",
        "\n",
        "y_pred = best_knn.predict(X_test)\n",
        "classification_rep = classification_report(y_test, y_pred)\n",
        "confusion_mat = confusion_matrix(y_test, y_pred)\n",
        "\n",
        "print('Classification Report:')\n",
        "print(classification_rep)\n",
        "\n",
        "print('Confusion Matrix:')\n",
        "print(confusion_mat)"
      ],
      "metadata": {
        "colab": {
          "base_uri": "https://localhost:8080/"
        },
        "id": "ekuRkqc2zBeC",
        "outputId": "25810731-7a89-49ad-9329-65d86cfb8d60"
      },
      "execution_count": 61,
      "outputs": [
        {
          "output_type": "stream",
          "name": "stdout",
          "text": [
            "Classification Report:\n",
            "              precision    recall  f1-score   support\n",
            "\n",
            "           1       0.97      0.67      0.79       170\n",
            "           2       0.95      0.92      0.94       340\n",
            "           3       0.73      0.98      0.84       156\n",
            "           4       1.00      1.00      1.00       157\n",
            "           5       0.92      0.95      0.93       324\n",
            "           6       1.00      1.00      1.00       160\n",
            "\n",
            "    accuracy                           0.92      1307\n",
            "   macro avg       0.93      0.92      0.92      1307\n",
            "weighted avg       0.93      0.92      0.92      1307\n",
            "\n",
            "Confusion Matrix:\n",
            "[[114   0  56   0   0   0]\n",
            " [  0 313   0   0  27   0]\n",
            " [  3   0 153   0   0   0]\n",
            " [  0   0   0 157   0   0]\n",
            " [  0  16   0   0 308   0]\n",
            " [  0   0   0   0   0 160]]\n"
          ]
        }
      ]
    },
    {
      "cell_type": "code",
      "source": [
        "\n",
        "\n",
        "# Visualize the confusion matrix as a heatmap\n",
        "# confusion_mat = np.array(confusion_mat)\n",
        "\n",
        "# Create a Matplotlib figure and axis\n",
        "plt.figure(figsize=(8, 6))\n",
        "\n",
        "# Plot the heatmap\n",
        "sns.heatmap(confusion_mat, annot=True, fmt='d', cmap='Reds', cbar=False)  # Use cbar=False to remove the color bar\n",
        "plt.xlabel(\"Predicted\")\n",
        "plt.ylabel(\"True\")\n",
        "\n",
        "# Customize the axis ticks to start at 1\n",
        "plt.xticks(ticks=np.arange(1, confusion_mat.shape[1] + 1), labels=np.arange(1, confusion_mat.shape[1] + 1))\n",
        "plt.yticks(ticks=np.arange(1, confusion_mat.shape[0] + 1), labels=np.arange(1, confusion_mat.shape[0] + 1))\n",
        "\n",
        "# Add a title\n",
        "plt.title(\"2 sensor Non overlapping: Optimized KNN Confusion Matrix\")\n",
        "\n",
        "# Show the plot\n",
        "plt.show()"
      ],
      "metadata": {
        "colab": {
          "base_uri": "https://localhost:8080/",
          "height": 564
        },
        "id": "eoRI_qMPVLO_",
        "outputId": "50361a94-980d-4944-f78f-0cb9860b29d0"
      },
      "execution_count": 75,
      "outputs": [
        {
          "output_type": "display_data",
          "data": {
            "text/plain": [
              "<Figure size 800x600 with 1 Axes>"
            ],
            "image/png": "[encoded data removed]"
          },
          "metadata": {}
        }
      ]
    },
    {
      "cell_type": "code",
      "source": [
        "from sklearn.metrics import precision_score, recall_score, f1_score\n",
        "\n",
        "micro_precision = precision_score(y_test, y_pred, average='micro')\n",
        "micro_recall = recall_score(y_test, y_pred, average='micro')\n",
        "micro_f1 = f1_score(y_test, y_pred, average='micro')\n",
        "\n",
        "# Macro-averaged precision, recall, and F1-score\n",
        "macro_precision = precision_score(y_test, y_pred, average='macro')\n",
        "macro_recall = recall_score(y_test, y_pred, average='macro')\n",
        "macro_f1 = f1_score(y_test, y_pred, average='macro')\n",
        "\n",
        "# Display the results\n",
        "print(\"Micro-Averaged Precision:\", micro_precision)\n",
        "print(\"Micro-Averaged Recall:\", micro_recall)\n",
        "print(\"Micro-Averaged F1-Score:\", micro_f1)\n",
        "print(\"Macro-Averaged Precision:\", macro_precision)\n",
        "print(\"Macro-Averaged Recall:\", macro_recall)\n",
        "print(\"Macro-Averaged F1-Score:\", macro_f1)"
      ],
      "metadata": {
        "colab": {
          "base_uri": "https://localhost:8080/"
        },
        "id": "FV6BYODajM1M",
        "outputId": "5f70b2eb-bf74-4ed7-c154-938fa8db727c"
      },
      "execution_count": 95,
      "outputs": [
        {
          "output_type": "stream",
          "name": "stdout",
          "text": [
            "Micro-Averaged Precision: 0.9219586840091814\n",
            "Micro-Averaged Recall: 0.9219586840091814\n",
            "Micro-Averaged F1-Score: 0.9219586840091814\n",
            "Macro-Averaged Precision: 0.9295311928094265\n",
            "Macro-Averaged Recall: 0.9204271642180138\n",
            "Macro-Averaged F1-Score: 0.9172093057932829\n"
          ]
        }
      ]
    },
    {
      "cell_type": "code",
      "source": [],
      "metadata": {
        "id": "mm_V8SEXkNmN"
      },
      "execution_count": null,
      "outputs": []
    },
    {
      "cell_type": "code",
      "source": [
        "# Cosine KNN classifier\n",
        "cosine_knn = KNeighborsClassifier(metric='cosine')\n",
        "\n",
        "# Define a grid of hyperparameter values to search\n",
        "param_grid = {\n",
        "    'n_neighbors': list(range(3,14)),  # Adjust the range as needed\n",
        "    'weights': ['uniform', 'distance'],  # Weighting schemes\n",
        "    'p': [1, 2],  # Minkowski distance power (1 for Manhattan, 2 for Euclidean)\n",
        "}\n",
        "\n",
        "# Perform grid search with cross-validation\n",
        "grid_search = GridSearchCV(estimator=cosine_knn, param_grid=param_grid, cv=5, scoring='accuracy')\n",
        "grid_search.fit(X_train, y_train)\n",
        "\n",
        "best_params = grid_search.best_params_\n",
        "\n",
        "\n",
        "# Create a KNN model with the best hyperparameters\n",
        "cosine_knn = KNeighborsClassifier(**best_params)\n",
        "\n",
        "# Train the best KNN model on the training data\n",
        "cosine_knn.fit(X_train, y_train)\n",
        "\n"
      ],
      "metadata": {
        "colab": {
          "base_uri": "https://localhost:8080/"
        },
        "id": "U3wGrE5Q3crP",
        "outputId": "169ed178-e3b1-4756-94d4-e4a6b9b08c35"
      },
      "execution_count": 56,
      "outputs": [
        {
          "output_type": "stream",
          "name": "stdout",
          "text": [
            "Classification Report:\n",
            "              precision    recall  f1-score   support\n",
            "\n",
            "           1       0.95      0.71      0.81       170\n",
            "           2       0.94      0.91      0.92       340\n",
            "           3       0.75      0.96      0.85       156\n",
            "           4       1.00      1.00      1.00       157\n",
            "           5       0.91      0.94      0.92       324\n",
            "           6       1.00      1.00      1.00       160\n",
            "\n",
            "    accuracy                           0.92      1307\n",
            "   macro avg       0.93      0.92      0.92      1307\n",
            "weighted avg       0.92      0.92      0.92      1307\n",
            "\n",
            "Confusion Matrix:\n",
            "[[121   0  49   0   0   0]\n",
            " [  0 309   0   0  31   0]\n",
            " [  6   0 150   0   0   0]\n",
            " [  0   0   0 157   0   0]\n",
            " [  0  21   0   0 303   0]\n",
            " [  0   0   0   0   0 160]]\n"
          ]
        }
      ]
    },
    {
      "cell_type": "code",
      "source": [
        "\n",
        "# Evaluate the best model on the test data\n",
        "cosine_knn_accuracy = cosine_knn.score(X_test, y_test)\n",
        "\n",
        "cosine_knn_y_pred = cosine_knn.predict(X_test)\n",
        "\n",
        "cosine_knn_classification_rep = classification_report(y_test, cosine_knn_y_pred)\n",
        "\n",
        "cosine_knn_confusion_mat = confusion_matrix(y_test, cosine_knn_y_pred)\n",
        "\n",
        "print('Classification Report:')\n",
        "print(cosine_knn_classification_rep)\n",
        "\n",
        "print('Confusion Matrix:')\n",
        "print(cosine_knn_confusion_mat)"
      ],
      "metadata": {
        "colab": {
          "base_uri": "https://localhost:8080/"
        },
        "id": "XyHxGxE_BHkn",
        "outputId": "8790a822-c547-4d80-8502-32714acc7ef4"
      },
      "execution_count": 57,
      "outputs": [
        {
          "output_type": "stream",
          "name": "stdout",
          "text": [
            "Classification Report:\n",
            "              precision    recall  f1-score   support\n",
            "\n",
            "           1       0.95      0.71      0.81       170\n",
            "           2       0.94      0.91      0.92       340\n",
            "           3       0.75      0.96      0.85       156\n",
            "           4       1.00      1.00      1.00       157\n",
            "           5       0.91      0.94      0.92       324\n",
            "           6       1.00      1.00      1.00       160\n",
            "\n",
            "    accuracy                           0.92      1307\n",
            "   macro avg       0.93      0.92      0.92      1307\n",
            "weighted avg       0.92      0.92      0.92      1307\n",
            "\n",
            "Confusion Matrix:\n",
            "[[121   0  49   0   0   0]\n",
            " [  0 309   0   0  31   0]\n",
            " [  6   0 150   0   0   0]\n",
            " [  0   0   0 157   0   0]\n",
            " [  0  21   0   0 303   0]\n",
            " [  0   0   0   0   0 160]]\n"
          ]
        }
      ]
    },
    {
      "cell_type": "code",
      "source": [
        "import numpy as np\n",
        "import matplotlib.pyplot as plt\n",
        "import seaborn as sns\n",
        "\n",
        "# Visualize the confusion matrix as a heatmap\n",
        "# confusion_mat = np.array(confusion_mat)\n",
        "\n",
        "# Create a Matplotlib figure and axis\n",
        "plt.figure(figsize=(8, 6))\n",
        "\n",
        "# Plot the heatmap\n",
        "sns.heatmap(cosine_knn_confusion_mat, annot=True, fmt='d', cmap='Reds', cbar=False)  # Use cbar=False to remove the color bar\n",
        "plt.xlabel(\"Predicted\")\n",
        "plt.ylabel(\"True\")\n",
        "\n",
        "# Customize the axis ticks to start at 1\n",
        "plt.xticks(ticks=np.arange(1, cosine_knn_confusion_mat.shape[1] + 1), labels=np.arange(1, cosine_knn_confusion_mat.shape[1] + 1))\n",
        "plt.yticks(ticks=np.arange(1, cosine_knn_confusion_mat.shape[0] + 1), labels=np.arange(1, cosine_knn_confusion_mat.shape[0] + 1))\n",
        "\n",
        "# Add a title\n",
        "plt.title(\"2 sensor Non overlapping: Cosine KNN Confusion Matrix\")\n",
        "\n",
        "# Show the plot\n",
        "plt.show()"
      ],
      "metadata": {
        "colab": {
          "base_uri": "https://localhost:8080/",
          "height": 564
        },
        "id": "lKJ4YIi-dQaV",
        "outputId": "767247c0-3f9c-41bb-95f5-b982cae00087"
      },
      "execution_count": 59,
      "outputs": [
        {
          "output_type": "display_data",
          "data": {
            "text/plain": [
              "<Figure size 800x600 with 1 Axes>"
            ],
            "image/png": "[encoded data removed]"
          },
          "metadata": {}
        }
      ]
    },
    {
      "cell_type": "code",
      "source": [
        "best_knn"
      ],
      "metadata": {
        "colab": {
          "base_uri": "https://localhost:8080/",
          "height": 75
        },
        "id": "_TAhbYwtdoFs",
        "outputId": "5790ee15-60d7-4ff5-96f4-6b8c6b4c7193"
      },
      "execution_count": 96,
      "outputs": [
        {
          "output_type": "execute_result",
          "data": {
            "text/plain": [
              "KNeighborsClassifier(n_neighbors=6, p=1)"
            ],
            "text/html": [
              "<style>#sk-container-id-3 {color: black;background-color: white;}#sk-container-id-3 pre{padding: 0;}#sk-container-id-3 div.sk-toggleable {background-color: white;}#sk-container-id-3 label.sk-toggleable__label {cursor: pointer;display: block;width: 100%;margin-bottom: 0;padding: 0.3em;box-sizing: border-box;text-align: center;}#sk-container-id-3 label.sk-toggleable__label-arrow:before {content: \"▸\";float: left;margin-right: 0.25em;color: #696969;}#sk-container-id-3 label.sk-toggleable__label-arrow:hover:before {color: black;}#sk-container-id-3 div.sk-estimator:hover label.sk-toggleable__label-arrow:before {color: black;}#sk-container-id-3 div.sk-toggleable__content {max-height: 0;max-width: 0;overflow: hidden;text-align: left;background-color: #f0f8ff;}#sk-container-id-3 div.sk-toggleable__content pre {margin: 0.2em;color: black;border-radius: 0.25em;background-color: #f0f8ff;}#sk-container-id-3 input.sk-toggleable__control:checked~div.sk-toggleable__content {max-height: 200px;max-width: 100%;overflow: auto;}#sk-container-id-3 input.sk-toggleable__control:checked~label.sk-toggleable__label-arrow:before {content: \"▾\";}#sk-container-id-3 div.sk-estimator input.sk-toggleable__control:checked~label.sk-toggleable__label {background-color: #d4ebff;}#sk-container-id-3 div.sk-label input.sk-toggleable__control:checked~label.sk-toggleable__label {background-color: #d4ebff;}#sk-container-id-3 input.sk-hidden--visually {border: 0;clip: rect(1px 1px 1px 1px);clip: rect(1px, 1px, 1px, 1px);height: 1px;margin: -1px;overflow: hidden;padding: 0;position: absolute;width: 1px;}#sk-container-id-3 div.sk-estimator {font-family: monospace;background-color: #f0f8ff;border: 1px dotted black;border-radius: 0.25em;box-sizing: border-box;margin-bottom: 0.5em;}#sk-container-id-3 div.sk-estimator:hover {background-color: #d4ebff;}#sk-container-id-3 div.sk-parallel-item::after {content: \"\";width: 100%;border-bottom: 1px solid gray;flex-grow: 1;}#sk-container-id-3 div.sk-label:hover label.sk-toggleable__label {background-color: #d4ebff;}#sk-container-id-3 div.sk-serial::before {content: \"\";position: absolute;border-left: 1px solid gray;box-sizing: border-box;top: 0;bottom: 0;left: 50%;z-index: 0;}#sk-container-id-3 div.sk-serial {display: flex;flex-direction: column;align-items: center;background-color: white;padding-right: 0.2em;padding-left: 0.2em;position: relative;}#sk-container-id-3 div.sk-item {position: relative;z-index: 1;}#sk-container-id-3 div.sk-parallel {display: flex;align-items: stretch;justify-content: center;background-color: white;position: relative;}#sk-container-id-3 div.sk-item::before, #sk-container-id-3 div.sk-parallel-item::before {content: \"\";position: absolute;border-left: 1px solid gray;box-sizing: border-box;top: 0;bottom: 0;left: 50%;z-index: -1;}#sk-container-id-3 div.sk-parallel-item {display: flex;flex-direction: column;z-index: 1;position: relative;background-color: white;}#sk-container-id-3 div.sk-parallel-item:first-child::after {align-self: flex-end;width: 50%;}#sk-container-id-3 div.sk-parallel-item:last-child::after {align-self: flex-start;width: 50%;}#sk-container-id-3 div.sk-parallel-item:only-child::after {width: 0;}#sk-container-id-3 div.sk-dashed-wrapped {border: 1px dashed gray;margin: 0 0.4em 0.5em 0.4em;box-sizing: border-box;padding-bottom: 0.4em;background-color: white;}#sk-container-id-3 div.sk-label label {font-family: monospace;font-weight: bold;display: inline-block;line-height: 1.2em;}#sk-container-id-3 div.sk-label-container {text-align: center;}#sk-container-id-3 div.sk-container {/* jupyter's `normalize.less` sets `[hidden] { display: none; }` but bootstrap.min.css set `[hidden] { display: none !important; }` so we also need the `!important` here to be able to override the default hidden behavior on the sphinx rendered scikit-learn.org. See: https://github.com/scikit-learn/scikit-learn/issues/21755 */display: inline-block !important;position: relative;}#sk-container-id-3 div.sk-text-repr-fallback {display: none;}</style><div id=\"sk-container-id-3\" class=\"sk-top-container\"><div class=\"sk-text-repr-fallback\"><pre>KNeighborsClassifier(n_neighbors=6, p=1)</pre><b>In a Jupyter environment, please rerun this cell to show the HTML representation or trust the notebook. <br />On GitHub, the HTML representation is unable to render, please try loading this page with nbviewer.org.</b></div><div class=\"sk-container\" hidden><div class=\"sk-item\"><div class=\"sk-estimator sk-toggleable\"><input class=\"sk-toggleable__control sk-hidden--visually\" id=\"sk-estimator-id-5\" type=\"checkbox\" checked><label for=\"sk-estimator-id-5\" class=\"sk-toggleable__label sk-toggleable__label-arrow\">KNeighborsClassifier</label><div class=\"sk-toggleable__content\"><pre>KNeighborsClassifier(n_neighbors=6, p=1)</pre></div></div></div></div></div>"
            ]
          },
          "metadata": {},
          "execution_count": 96
        }
      ]
    },
    {
      "cell_type": "code",
      "source": [
        "cv_data_name = []\n",
        "for name in xlsx_name:\n",
        "    cv_data_name.append(f\"{file_path}/final_{name}.xlsx\")\n",
        "\n",
        "df_all = load_dataset_and_merge(cv_data_name)\n",
        "\n",
        "normalize_all_data = df_all.iloc[:, :-1]\n",
        "scaler.fit(normalize_all_data)\n",
        "df_all.iloc[:, :-1] = scaler.transform(normalize_all_data)\n",
        "\n",
        "X = df_all.iloc[:, :-1].values\n",
        "y = df_all['output'].values"
      ],
      "metadata": {
        "id": "1x3t3BV7tF4n"
      },
      "execution_count": 99,
      "outputs": []
    },
    {
      "cell_type": "code",
      "source": [
        "import numpy as np\n",
        "from sklearn.model_selection import cross_val_score, KFold\n",
        "from sklearn.metrics import accuracy_score, precision_score, recall_score, f1_score, roc_auc_score, confusion_matrix\n",
        "from sklearn.ensemble import RandomForestClassifier  # Replace with your choice of classifier\n",
        "\n",
        "# Assuming you have your features (X) and target labels (y)\n",
        "\n",
        "\n",
        "# Choose the number of folds for cross-validation\n",
        "n_splits = 30  # Adjust as needed\n",
        "\n",
        "# Initialize lists to store evaluation metrics for each fold\n",
        "accuracy_scores = []\n",
        "precision_scores = []\n",
        "recall_scores = []\n",
        "f1_scores = []\n",
        "roc_auc_scores = []\n",
        "confusion_matrices = []\n",
        "\n",
        "# Perform k-fold cross-validation\n",
        "kf = KFold(n_splits=n_splits, shuffle=True, random_state=42)  # You can choose a different random state\n",
        "\n",
        "for train_index, test_index in kf.split(X):\n",
        "    X_train, X_test = X[train_index], X[test_index]\n",
        "    y_train, y_test = y[train_index], y[test_index]\n",
        "\n",
        "    # Fit the classifier on the training data\n",
        "    best_knn.fit(X_train, y_train)\n",
        "\n",
        "    # Make predictions on the test data\n",
        "    y_pred = best_knn.predict(X_test)\n",
        "\n",
        "    # Calculate evaluation metrics for this fold\n",
        "    accuracy_scores.append(accuracy_score(y_test, y_pred))\n",
        "    precision_scores.append(precision_score(y_test, y_pred, average='micro'))\n",
        "    recall_scores.append(recall_score(y_test, y_pred, average='micro'))\n",
        "    f1_scores.append(f1_score(y_test, y_pred, average='micro'))\n",
        "    roc_auc_scores.append(roc_auc_score(y_test, best_knn.predict_proba(X_test), multi_class='ovr'))\n",
        "    confusion_matrices.append(confusion_matrix(y_test, y_pred))\n",
        "\n",
        "# Calculate mean and standard deviation for each metric\n",
        "mean_accuracy = np.mean(accuracy_scores)\n",
        "std_accuracy = np.std(accuracy_scores)\n",
        "mean_precision = np.mean(precision_scores)\n",
        "std_precision = np.std(precision_scores)\n",
        "mean_recall = np.mean(recall_scores)\n",
        "std_recall = np.std(recall_scores)\n",
        "mean_f1 = np.mean(f1_scores)\n",
        "std_f1 = np.std(f1_scores)\n",
        "mean_roc_auc = np.mean(roc_auc_scores)\n",
        "std_roc_auc = np.std(roc_auc_scores)\n",
        "\n",
        "# Display the results\n",
        "print(\"Mean Accuracy:\", mean_accuracy)\n",
        "print(\"Standard Deviation (Accuracy):\", std_accuracy)\n",
        "print(\"Mean Precision:\", mean_precision)\n",
        "print(\"Standard Deviation (Precision):\", std_precision)\n",
        "print(\"Mean Recall:\", mean_recall)\n",
        "print(\"Standard Deviation (Recall):\", std_recall)\n",
        "print(\"Mean F1-Score:\", mean_f1)\n",
        "print(\"Standard Deviation (F1-Score):\", std_f1)\n",
        "print(\"Mean ROC-AUC:\", mean_roc_auc)\n",
        "print(\"Standard Deviation (ROC-AUC):\", std_roc_auc)\n",
        "\n",
        "# Optionally, you can analyze the confusion matrices and make model selection based on your requirements.\n"
      ],
      "metadata": {
        "colab": {
          "base_uri": "https://localhost:8080/"
        },
        "id": "KwuUo6Nms6dS",
        "outputId": "32d631fc-4684-42ba-ca23-9ba77ec07833"
      },
      "execution_count": 104,
      "outputs": [
        {
          "output_type": "stream",
          "name": "stdout",
          "text": [
            "Mean Accuracy: 0.9711670124481329\n",
            "Standard Deviation (Accuracy): 0.00965077264378493\n",
            "Mean Precision: 0.9711670124481329\n",
            "Standard Deviation (Precision): 0.00965077264378493\n",
            "Mean Recall: 0.9711670124481329\n",
            "Standard Deviation (Recall): 0.00965077264378493\n",
            "Mean F1-Score: 0.9711670124481329\n",
            "Standard Deviation (F1-Score): 0.009650772643784904\n",
            "Mean ROC-AUC: 0.9973187435554394\n",
            "Standard Deviation (ROC-AUC): 0.001908842737694311\n"
          ]
        }
      ]
    },
    {
      "cell_type": "code",
      "source": [
        "n_splits = 10  # Number of cross-validation folds\n",
        "kf = KFold(n_splits=n_splits, shuffle=True, random_state=42)  # Initialize cross-validation\n",
        "confusion_matrices = []\n",
        "\n",
        "# Perform k-fold cross-validation\n",
        "for train_index, test_index in kf.split(X):\n",
        "    X_train, X_test = X[train_index], X[test_index]\n",
        "    y_train, y_test = y[train_index], y[test_index]\n",
        "\n",
        "    # Fit the classifier on the training data\n",
        "    best_knn.fit(X_train, y_train)\n",
        "\n",
        "    # Make predictions on the test data\n",
        "    y_pred = best_knn.predict(X_test)\n",
        "\n",
        "    # Calculate and store the confusion matrix for this fold\n",
        "    cm = confusion_matrix(y_test, y_pred)\n",
        "    confusion_matrices.append(cm)\n",
        "\n",
        "# Analyze the confusion matrices and make model selection based on your requirements\n",
        "for i, cm in enumerate(confusion_matrices):\n",
        "    print(f\"Confusion Matrix (Fold {i + 1}):\")\n",
        "    print(cm)\n",
        "    # You can perform additional analysis or model selection here based on the confusion matrices.\n",
        "# In this co"
      ],
      "metadata": {
        "colab": {
          "base_uri": "https://localhost:8080/"
        },
        "id": "YIRgfLxJub99",
        "outputId": "e763085d-629d-4fe9-d74b-ee884f74fcf5"
      },
      "execution_count": 106,
      "outputs": [
        {
          "output_type": "stream",
          "name": "stdout",
          "text": [
            "Confusion Matrix (Fold 1):\n",
            "[[133   0   0   0   0   0]\n",
            " [  0 238   0   0   1   0]\n",
            " [  1   0 113   0   0   0]\n",
            " [  0   0   0  53   0   0]\n",
            " [  0  22   0   0  92   0]\n",
            " [  0   0   0   0   0  69]]\n",
            "Confusion Matrix (Fold 2):\n",
            "[[100   0   1   0   0   0]\n",
            " [  0 260   0   0   3   0]\n",
            " [  1   0  97   0   0   0]\n",
            " [  0   0   0  60   0   0]\n",
            " [  0  17   0   0 111   0]\n",
            " [  0   0   0   0   0  72]]\n",
            "Confusion Matrix (Fold 3):\n",
            "[[122   0   1   0   0   0]\n",
            " [  0 234   0   0   4   0]\n",
            " [  0   1 125   0   0   0]\n",
            " [  0   0   0  62   0   0]\n",
            " [  0  14   0   0 104   0]\n",
            " [  0   0   0   0   0  55]]\n",
            "Confusion Matrix (Fold 4):\n",
            "[[111   0   0   0   0   0]\n",
            " [  0 221   0   0   2   0]\n",
            " [  0   0 108   0   0   0]\n",
            " [  0   0   0  67   0   0]\n",
            " [  0  17   0   0 127   0]\n",
            " [  0   0   0   0   0  68]]\n",
            "Confusion Matrix (Fold 5):\n",
            "[[ 96   0   1   0   0   0]\n",
            " [  0 243   0   0  10   0]\n",
            " [  0   0 125   0   0   0]\n",
            " [  0   0   0  56   0   0]\n",
            " [  0  15   0   0 116   0]\n",
            " [  0   0   0   0   0  59]]\n",
            "Confusion Matrix (Fold 6):\n",
            "[[106   0   1   0   0   0]\n",
            " [  0 249   0   0   1   0]\n",
            " [  0   0 100   0   0   0]\n",
            " [  0   0   0  57   0   0]\n",
            " [  0  20   0   0 123   0]\n",
            " [  0   0   0   0   0  64]]\n",
            "Confusion Matrix (Fold 7):\n",
            "[[109   0   0   0   0   0]\n",
            " [  0 236   0   0   6   0]\n",
            " [  0   0 111   0   0   0]\n",
            " [  0   0   0  64   0   0]\n",
            " [  0  17   0   0 117   0]\n",
            " [  0   0   0   0   0  61]]\n",
            "Confusion Matrix (Fold 8):\n",
            "[[125   0   1   0   0   0]\n",
            " [  0 237   0   0   2   0]\n",
            " [  0   0  99   0   0   0]\n",
            " [  0   0   0  81   0   0]\n",
            " [  0  12   0   0  97   0]\n",
            " [  0   0   0   0   0  67]]\n",
            "Confusion Matrix (Fold 9):\n",
            "[[122   0   0   0   0   0]\n",
            " [  0 226   0   0   3   0]\n",
            " [  0   0 110   0   0   0]\n",
            " [  0   0   0  74   0   0]\n",
            " [  0   8   0   0 124   0]\n",
            " [  0   0   0   0   0  54]]\n",
            "Confusion Matrix (Fold 10):\n",
            "[[112   0   0   0   0   0]\n",
            " [  0 224   0   0   4   0]\n",
            " [  0   0 118   0   0   0]\n",
            " [  0   0   0  62   0   0]\n",
            " [  0  19   0   0 106   0]\n",
            " [  0   0   0   0   0  76]]\n"
          ]
        }
      ]
    },
    {
      "cell_type": "code",
      "source": [],
      "metadata": {
        "id": "jvvogd73wRLp"
      },
      "execution_count": null,
      "outputs": []
    }
  ]
}